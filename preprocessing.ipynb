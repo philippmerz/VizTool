{
 "cells": [
  {
   "cell_type": "code",
   "execution_count": null,
   "metadata": {},
   "outputs": [],
   "source": [
    "import pandas as pd\n",
    "import numpy as np\n",
    "import json\n",
    "import simplejson"
   ]
  },
  {
   "cell_type": "code",
   "execution_count": null,
   "metadata": {},
   "outputs": [],
   "source": [
    "df = pd.read_excel('data/dataset.xlsx')"
   ]
  },
  {
   "cell_type": "code",
   "execution_count": null,
   "metadata": {},
   "outputs": [],
   "source": [
    "df.head()"
   ]
  },
  {
   "cell_type": "code",
   "execution_count": null,
   "metadata": {
    "tags": []
   },
   "outputs": [],
   "source": [
    "# Replace <1000 entries by 0 in order to keep this category continuous\n",
    "df[[\"Urine - Leukocytes\"]] = df[[\"Urine - Leukocytes\"]].replace('<1000', '0')\n",
    "df['Urine - Leukocytes'] = df['Urine - Leukocytes']"
   ]
  },
  {
   "cell_type": "code",
   "execution_count": null,
   "metadata": {},
   "outputs": [],
   "source": [
    "# Nao Realizado is basically NaN, so convert it to one\n",
    "df[\"Urine - pH\"][177]"
   ]
  },
  {
   "cell_type": "code",
   "execution_count": null,
   "metadata": {},
   "outputs": [],
   "source": [
    "# \n",
    "df[\"Urine - pH\"][177] = float('NaN')\n",
    "df['Urine - pH'] = df['Urine - pH']\n",
    "df[\"Patient age quantile\"] = df[\"Patient age quantile\"]"
   ]
  },
  {
   "cell_type": "code",
   "execution_count": null,
   "metadata": {},
   "outputs": [],
   "source": [
    "# Drop all columns with all NaNs\n",
    "df1 = df.drop(['Mycoplasma pneumoniae', 'Urine - Nitrite', 'Urine - Sugar', 'Partial thromboplastin time\\xa0(PTT)\\xa0', 'Prothrombin time (PT), Activity', 'D-Dimer', 'Fio2 (venous blood gas analysis)'], axis=1)"
   ]
  },
  {
   "cell_type": "code",
   "execution_count": null,
   "metadata": {},
   "outputs": [],
   "source": [
    "# New dataset with attribute metadata: number of unique values, datatype, number of nulls, unique values if datatype is categorical\n",
    "def getAttrInfo(df):\n",
    "    attrInfo = {}\n",
    "    for name in list(df.columns):\n",
    "        num = len(df[name].unique())\n",
    "\n",
    "        # use number of unique values as loose proxy for datatype\n",
    "        varType = 'continuous' if num > 6 else 'categorical'\n",
    "\n",
    "        # proxy misclassifies patient ID, so adjust manually\n",
    "        if (name == 'Urine - pH' or name == \"Patient ID\" or \"Urine - Leukocytes\"):\n",
    "            varType = \"categorical\"\n",
    "\n",
    "        attrInfo[name] = {'numDistinctValues': num, 'type': varType, 'numNull': df[name].isna().sum().item()}\n",
    "\n",
    "        if (varType == 'categorical'):\n",
    "            attrInfo[name]['values'] = list(df[name].unique())\n",
    "        else:\n",
    "            # add min and max value for continuous variables\n",
    "            print(name)\n",
    "            attrInfo[name]['min'] = df[name].min()\n",
    "            attrInfo[name]['max'] = df[name].max()\n",
    "    attrInfo[\"Patient ID\"][\"values\"] = list(df['Patient ID'].unique())\n",
    "    \n",
    "    return attrInfo"
   ]
  },
  {
   "cell_type": "code",
   "execution_count": null,
   "metadata": {
    "tags": []
   },
   "outputs": [],
   "source": [
    "attrInfo = getAttrInfo(df1)"
   ]
  },
  {
   "cell_type": "code",
   "execution_count": null,
   "metadata": {},
   "outputs": [],
   "source": [
    "hasToBeEncoded = {}\n",
    "df1_encoded = df1.copy()"
   ]
  },
  {
   "cell_type": "code",
   "execution_count": null,
   "metadata": {},
   "outputs": [],
   "source": [
    "# convert dummy binary variables with values 0 and 1 to yes and no for readability in tool\n",
    "for item in attrInfo:\n",
    "    if (attrInfo[item]['type'] == 'categorical'):\n",
    "        if (attrInfo[item]['values'] == [0,1]):\n",
    "            df1_encoded[item] = df1_encoded[item].replace([0,1], ['no', 'yes'])\n",
    "    \n",
    "df1_encoded.head()"
   ]
  },
  {
   "cell_type": "code",
   "execution_count": null,
   "metadata": {},
   "outputs": [],
   "source": [
    "# Remove (1=yes, 0=no) from column names\n",
    "df1_enc_renamed = df1_encoded.rename({'Patient addmited to regular ward (1=yes, 0=no)': 'Patient addmited to regular ward', 'Patient addmited to semi-intensive unit (1=yes, 0=no)': 'Patient addmited to semi-intensive unit', 'Patient addmited to intensive care unit (1=yes, 0=no)': 'Patient addmited to intensive care unit'}, axis=1)"
   ]
  },
  {
   "cell_type": "code",
   "execution_count": null,
   "metadata": {},
   "outputs": [],
   "source": [
    "df1_enc_renamed.to_json('./data/data.json', orient='records')"
   ]
  },
  {
   "cell_type": "code",
   "execution_count": null,
   "metadata": {},
   "outputs": [],
   "source": [
    "attrInfo_json_serializable = getAttrInfo(df1_enc_renamed)"
   ]
  },
  {
   "cell_type": "code",
   "execution_count": null,
   "metadata": {},
   "outputs": [],
   "source": [
    "# Convert int64 list to int list in order to make it json serializable\n",
    "attrInfo_json_serializable['Patient age quantile']['values'] = list(map(int, attrInfo_json_serializable['Patient age quantile']['values']))"
   ]
  },
  {
   "cell_type": "code",
   "execution_count": null,
   "metadata": {},
   "outputs": [],
   "source": [
    "# Write attribute info dataset to file\n",
    "with open('./data/attrInfo.json', 'w') as ai:\n",
    "    simplejson.dump(attrInfo_json_serializable, ai, ignore_nan=True)"
   ]
  }
 ],
 "metadata": {
  "kernelspec": {
   "display_name": "Python 3",
   "language": "python",
   "name": "python3"
  },
  "language_info": {
   "codemirror_mode": {
    "name": "ipython",
    "version": 3
   },
   "file_extension": ".py",
   "mimetype": "text/x-python",
   "name": "python",
   "nbconvert_exporter": "python",
   "pygments_lexer": "ipython3",
   "version": "3.7.7-final"
  }
 },
 "nbformat": 4,
 "nbformat_minor": 4
}